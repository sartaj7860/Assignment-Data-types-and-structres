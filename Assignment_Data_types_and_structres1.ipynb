{
  "nbformat": 4,
  "nbformat_minor": 0,
  "metadata": {
    "colab": {
      "provenance": []
    },
    "kernelspec": {
      "name": "python3",
      "display_name": "Python 3"
    },
    "language_info": {
      "name": "python"
    }
  },
  "cells": [
    {
      "cell_type": "markdown",
      "source": [
        "**DATA TYPES AND STRUCTURES**\n",
        "1. What are data structures and why are they important ?\n",
        "- Data structures are specialized formats for organizing, storing and acessing collections\n",
        "of data. They provide efficient ways to manage information based on it’s characteristics\n",
        "and intended use. They are important because -\n",
        "\n",
        "- (a) Choosing the right data structure significantly impacts the efficeincy and performanc\n",
        "of the program.\n",
        "\n",
        "- (b) Well- chosen data structures can.\n",
        "- (c) Simplify data manipulation ( adding, removing, modifying elements).\n",
        "- (d) Optimize searching and sorting operations.\n",
        "- (e) Conserve memory usage.\n",
        "2. Explain the difference between mutable and immutable data types with examples.\n",
        "- Mutable objects can be modified after they are created. Examples : **list, dictionary,set.**\n",
        "Immutable objects cannot be modified after they are created. Examples : String, tuple.\n",
        "3. What are the main differences between lists and tuples in python ?\n",
        "- Lists are mutable and enclosed by “[ ]” whereas tuples are immutable and enclosed by\n",
        "“( )” .\n",
        "4.  Describe how dictionaries store data.\n",
        "- Dictionaries in python store data in the form of key-value pair.\n",
        "5. Why might you use a set instead of a list in python ?\n",
        "- We might use a set instead of a list in python as set does not allow duplication of\n",
        "elements.\n",
        "6. What is a string in python and how is it different from a list ?\n",
        "- String in python is a sequence of character to represent and manipulated textual data.\n",
        "It is different from a list as string is immutable and not enclosed by square brackets.\n",
        "7. How do tuples ensure data integrity in python ?\n",
        "- As tuples are immutable, so this characteristic of it ensures data integrity in python.\n",
        "8. What is a hash table and how does it relate to dictionaries in python ?\n",
        "- A hash table is a data structure that maps keys to values using a hash function to compute\n",
        "an index into an array of buckets or slots. It relates to dictionaries in python as dictionaries\n",
        "are implemented using hash tables.\n",
        "9. Can lists contain different data types in python ?\n",
        "- Yes, list can contain different data types in python.\n",
        "10. Explain why strings are immutable in python ?\n",
        "- Strings are immutable in python as after their creation , they cannot be changed. Immutablity\n",
        "helps with performance optimatization, memory efficiency and thread safety.\n",
        "1\n",
        "11. What advantages do dictionaries offer over lists for certain tasks ?\n",
        "- The advantages do dictionaries offer over lists for certain tasks as dictionaries store data in\n",
        "the form of key-value pair and also dictionaries are more readable and descriptive.\n",
        "12. Describe a scenario where using a tuple would be prefferable over a list.\n",
        "- A tuple would be prefferable over a list as tuple is immutable , so it can be used when the\n",
        "data is constant and should not be accidently modified.\n",
        "13. How do sets handle duplicate values in python ?\n",
        "- Sets in python handle duplicate values by automatically eliminate duplicate values as all\n",
        "elements in it must be unique.\n",
        "14. How does the “in” keyword work differently for lists and dictionaries ?\n",
        "- The “in” keyword for list checks if a value exits in the lists whereas “in” checks if a key\n",
        "exits in dictionary (not the value ).\n",
        "15. Can you modify the elements of a tuple ? Explain why or why not.\n",
        "- Elements of a tuple cannot be modify as tuple is immutable as once they are created , cannot\n",
        "be changed.\n",
        "16. What is nested dictionary and an example of its use cases ?\n",
        "- Nested dictionary means dictionary inside a dictionary. Example of it’s use case- pupil=\n",
        "{“user1”:{“name”:“A”,“age”:20},“user2”:{“name”:“B”,“age”:24}}\n",
        "17. Describe the time complexity of accessing elements in the dictionary.\n",
        "- The time complexity of accessing elements in the dictionary is , on average,O(1)\n",
        "18. In what situations are lists preffered over dictionaries ?\n",
        "- When data naturally fits a sequence ,where order and positional access are important and\n",
        "duplicates are acceptable, in this list is the preffered over dictionary.\n",
        "19. Why are dictionaries considered unordered and how does that affect data retrieval ?\n",
        "- Dictionaries are considered unordered because items do not have a defined order, cannot\n",
        "refer to an item by using an index. We cannot retrieve the items by using integer indices\n",
        "like my_dict[0]\n",
        "\n",
        ",\n",
        " then we must know the exact key to retrive it’s associated value. Data\n",
        "retrieval is inherently driven by the key.\n",
        "20. Explain the difference between a list and a dictionary in terms of data retrieval.\n",
        "- A list is an ordered collection of elements,where elements are accessed by using their index(position) and here time complexity is O(1) (constant time).\n",
        "\n",
        "A dictionary is an unordered\n",
        "collection of key-value pairs , where items are accessed using a unique key(not position) and\n",
        "here time complexity is on average is O(1).\n"
      ],
      "metadata": {
        "id": "OWpu8x1xm2eJ"
      }
    },
    {
      "cell_type": "markdown",
      "source": [
        " **Data types and structres Practical questions.**"
      ],
      "metadata": {
        "id": "gl70nE9FdbHe"
      }
    },
    {
      "cell_type": "code",
      "source": [
        "#1.Write a code to create a string with your name and print it.\n",
        "name = \"Sartaj Fatima\"\n",
        "print(name)\n",
        ""
      ],
      "metadata": {
        "colab": {
          "base_uri": "https://localhost:8080/"
        },
        "id": "iOspzQ-CYzYS",
        "outputId": "561a3815-a29f-4e54-9b45-a0b701d458a8"
      },
      "execution_count": 1,
      "outputs": [
        {
          "output_type": "stream",
          "name": "stdout",
          "text": [
            "Sartaj Fatima\n"
          ]
        }
      ]
    },
    {
      "cell_type": "code",
      "source": [
        "#2.Write a code to find the length of the string \"Hello World\".\n",
        "print(len(\"Hello World\"))"
      ],
      "metadata": {
        "colab": {
          "base_uri": "https://localhost:8080/"
        },
        "id": "RYPWnTTuZBg7",
        "outputId": "c9653f2e-60ba-42f5-82b6-d6a56aa9caf5"
      },
      "execution_count": 2,
      "outputs": [
        {
          "output_type": "stream",
          "name": "stdout",
          "text": [
            "11\n"
          ]
        }
      ]
    },
    {
      "cell_type": "code",
      "source": [
        "#3.Write a code to slice the first 3 characters from the string \"Python Programming\".\n",
        "string = \"Python Programming\"\n",
        "sliced_string = string[:3]\n",
        "print(sliced_string)\n",
        "\n",
        ""
      ],
      "metadata": {
        "colab": {
          "base_uri": "https://localhost:8080/"
        },
        "id": "SkKeNSJPZJ65",
        "outputId": "ad429c09-0e17-42c0-80e0-21610ee5af41"
      },
      "execution_count": 3,
      "outputs": [
        {
          "output_type": "stream",
          "name": "stdout",
          "text": [
            "Pyt\n"
          ]
        }
      ]
    },
    {
      "cell_type": "code",
      "source": [
        "#4.Write a code to convert the string \"hello\" to uppercase.\n",
        "string=\"hello\"\n",
        "uprString = string.upper()\n",
        "print(uprString)"
      ],
      "metadata": {
        "colab": {
          "base_uri": "https://localhost:8080/"
        },
        "id": "19au6iNPZOu3",
        "outputId": "46f57f2f-d042-4732-b268-68b2bccb17fc"
      },
      "execution_count": 4,
      "outputs": [
        {
          "output_type": "stream",
          "name": "stdout",
          "text": [
            "HELLO\n"
          ]
        }
      ]
    },
    {
      "cell_type": "code",
      "source": [
        "#5.Write a code to replace the word \"apple\" with \"orange\" in the string \"I like apple\".\n",
        "String = \"I like mango\"\n",
        "repString = String.replace('mango', 'apple')\n",
        "print(repString)"
      ],
      "metadata": {
        "colab": {
          "base_uri": "https://localhost:8080/"
        },
        "id": "IM6ujoeMZSlK",
        "outputId": "9e9699df-9e02-410f-e104-0de925e60a2b"
      },
      "execution_count": 6,
      "outputs": [
        {
          "output_type": "stream",
          "name": "stdout",
          "text": [
            "I like apple\n"
          ]
        }
      ]
    },
    {
      "cell_type": "code",
      "source": [
        "#6.Write a code to create a list with numbers 1 to 5 and print it.\n",
        "numList= [1,2,3,4,5]\n",
        "print(numList)"
      ],
      "metadata": {
        "colab": {
          "base_uri": "https://localhost:8080/"
        },
        "id": "SYR2bYwHZa9T",
        "outputId": "a65ae82c-5c8d-4daf-e15f-25da6b374f55"
      },
      "execution_count": 7,
      "outputs": [
        {
          "output_type": "stream",
          "name": "stdout",
          "text": [
            "[1, 2, 3, 4, 5]\n"
          ]
        }
      ]
    },
    {
      "cell_type": "code",
      "source": [
        "#7.Write a code to append the number 10 to the list [1, 2, 3, 4].\n",
        "numList=[1, 2, 3, 4]\n",
        "numList.append(10)\n",
        "print(numList)"
      ],
      "metadata": {
        "colab": {
          "base_uri": "https://localhost:8080/"
        },
        "id": "OCtJnvK5ZjIU",
        "outputId": "60205e49-7b5c-4c2e-902a-2cc7eca68e15"
      },
      "execution_count": 8,
      "outputs": [
        {
          "output_type": "stream",
          "name": "stdout",
          "text": [
            "[1, 2, 3, 4, 10]\n"
          ]
        }
      ]
    },
    {
      "cell_type": "code",
      "source": [
        "#8.Write a code to remove the number 3 from the list [1, 2, 3, 4, 5].\n",
        "nulList= [1, 2, 3, 4, 5]\n",
        "nulList.remove(3)\n",
        "print(nulList)"
      ],
      "metadata": {
        "colab": {
          "base_uri": "https://localhost:8080/"
        },
        "id": "th6XGflKZrCu",
        "outputId": "5bf31bf0-91f9-4015-c770-4ded35b5f22c"
      },
      "execution_count": 9,
      "outputs": [
        {
          "output_type": "stream",
          "name": "stdout",
          "text": [
            "[1, 2, 4, 5]\n"
          ]
        }
      ]
    },
    {
      "cell_type": "code",
      "source": [
        "#9.Write a code to access the second element in the list ['a', 'b', 'c', 'd'].\n",
        "alphList=['a', 'b', 'c', 'd']\n",
        "print(alphList[1])"
      ],
      "metadata": {
        "colab": {
          "base_uri": "https://localhost:8080/"
        },
        "id": "btK1c_bqZuiw",
        "outputId": "c61528d1-fa72-4ddc-96e8-99dc98e7606a"
      },
      "execution_count": 10,
      "outputs": [
        {
          "output_type": "stream",
          "name": "stdout",
          "text": [
            "b\n"
          ]
        }
      ]
    },
    {
      "cell_type": "code",
      "source": [
        "#10.Write a code to reverse the list [10, 20, 30, 40, 50].\n",
        "numList=[10, 20, 30, 40, 50]\n",
        "print(numList[::-1])"
      ],
      "metadata": {
        "colab": {
          "base_uri": "https://localhost:8080/"
        },
        "id": "IT1qqmziZxa8",
        "outputId": "a99e7294-2846-493d-8a93-dc8526fb3ce6"
      },
      "execution_count": 11,
      "outputs": [
        {
          "output_type": "stream",
          "name": "stdout",
          "text": [
            "[50, 40, 30, 20, 10]\n"
          ]
        }
      ]
    },
    {
      "cell_type": "code",
      "source": [
        "#11. Write a code to create a tuple with the elements 100, 200, 300 and print it.\n",
        "fisrtTuple = (100,200,300)\n",
        "print(fisrtTuple)"
      ],
      "metadata": {
        "colab": {
          "base_uri": "https://localhost:8080/"
        },
        "id": "7TzmyWCZZ0WP",
        "outputId": "03580118-fe99-4028-880d-19f7179fb9dd"
      },
      "execution_count": 12,
      "outputs": [
        {
          "output_type": "stream",
          "name": "stdout",
          "text": [
            "(100, 200, 300)\n"
          ]
        }
      ]
    },
    {
      "cell_type": "code",
      "source": [
        "#12.Write a code to access the second-to-last element of the tuple ('red', 'green', 'blue', 'yellow').\n",
        "colTuple = ('red', 'green', 'blue', 'yellow')\n",
        "print(colTuple[-2])"
      ],
      "metadata": {
        "colab": {
          "base_uri": "https://localhost:8080/"
        },
        "id": "1g8ogXiQZ3Kq",
        "outputId": "4f159b88-9176-427c-eb48-c7b9f72bc5ba"
      },
      "execution_count": 13,
      "outputs": [
        {
          "output_type": "stream",
          "name": "stdout",
          "text": [
            "blue\n"
          ]
        }
      ]
    },
    {
      "cell_type": "code",
      "source": [
        "#13. Write a code to find the minimum number in the tuple (10, 20, 5, 15).\n",
        "numTuple = (10, 20, 5, 15)\n",
        "print(min(numTuple))"
      ],
      "metadata": {
        "colab": {
          "base_uri": "https://localhost:8080/"
        },
        "id": "GrdzrCx2Z-ie",
        "outputId": "e159f4bd-68ef-4274-e6c8-571a93629027"
      },
      "execution_count": 14,
      "outputs": [
        {
          "output_type": "stream",
          "name": "stdout",
          "text": [
            "5\n"
          ]
        }
      ]
    },
    {
      "cell_type": "code",
      "source": [
        "#14.Write a code to find the index of the element \"cat\" in the tuple ('dog', 'cat', 'rabbit').\n",
        "aniTuple = ('dog', 'cat', 'rabbit')\n",
        "print(aniTuple.index('cat'))"
      ],
      "metadata": {
        "colab": {
          "base_uri": "https://localhost:8080/"
        },
        "id": "Ln-NHbyYaDQ4",
        "outputId": "c85c4d91-9902-4dc8-bf97-d4aa3817fcc6"
      },
      "execution_count": 15,
      "outputs": [
        {
          "output_type": "stream",
          "name": "stdout",
          "text": [
            "1\n"
          ]
        }
      ]
    },
    {
      "cell_type": "code",
      "source": [
        "#15. Write a code to create a tuple containing three different fruits and check if \"kiwi\" is in it.\n",
        "fruTuple = ('Apple','mango','kiwi')\n",
        "ifKiwi= 'kiwi' in fruTuple\n",
        "print(ifKiwi)"
      ],
      "metadata": {
        "colab": {
          "base_uri": "https://localhost:8080/"
        },
        "id": "ZnDrdL4baGRw",
        "outputId": "d8606473-31cf-4de2-ae5d-bc315892d8e4"
      },
      "execution_count": 16,
      "outputs": [
        {
          "output_type": "stream",
          "name": "stdout",
          "text": [
            "True\n"
          ]
        }
      ]
    },
    {
      "cell_type": "code",
      "source": [
        "#16.Write a code to create a set with the elements 'a', 'b', 'c' and print it.\n",
        "alphSet = {'a','b','c'}\n",
        "print(alphSet)"
      ],
      "metadata": {
        "colab": {
          "base_uri": "https://localhost:8080/"
        },
        "id": "V3G1_JToaLQl",
        "outputId": "d4c8e2ed-d9c3-4140-fdf4-f0090c87c06d"
      },
      "execution_count": 17,
      "outputs": [
        {
          "output_type": "stream",
          "name": "stdout",
          "text": [
            "{'a', 'b', 'c'}\n"
          ]
        }
      ]
    },
    {
      "cell_type": "code",
      "source": [
        "#17.Write a code to clear all elements from the set {1, 2, 3, 4, 5}.\n",
        "alphSet =  {1, 2, 3, 4, 5}\n",
        "clearSet = alphSet.clear()\n",
        "print(clearSet)"
      ],
      "metadata": {
        "colab": {
          "base_uri": "https://localhost:8080/"
        },
        "id": "rGuK38WIaN3q",
        "outputId": "80bdbc64-54fe-49f6-c18a-379faabfcaf1"
      },
      "execution_count": 18,
      "outputs": [
        {
          "output_type": "stream",
          "name": "stdout",
          "text": [
            "None\n"
          ]
        }
      ]
    },
    {
      "cell_type": "code",
      "source": [
        "#Write a code to remove the element 4 from the set {1, 2, 3, 4}\n",
        "alphaSet = {1, 2, 3, 4}\n",
        "remSet= alphaSet.remove(4)\n",
        "print(alphaSet)"
      ],
      "metadata": {
        "colab": {
          "base_uri": "https://localhost:8080/"
        },
        "id": "JeDZnxTVaTfX",
        "outputId": "1895e71b-5871-4e78-a76f-134d8db9d877"
      },
      "execution_count": 20,
      "outputs": [
        {
          "output_type": "stream",
          "name": "stdout",
          "text": [
            "{1, 2, 3}\n"
          ]
        }
      ]
    },
    {
      "cell_type": "code",
      "source": [
        "#19.Write a code to find the union of two sets {1, 2, 3} and {3, 4, 5}.\n",
        "set1 = {1, 2, 3}\n",
        "set2 = {3, 4, 5}\n",
        "setUnion = set1.union(set2)\n",
        "print(setUnion)\n",
        ""
      ],
      "metadata": {
        "colab": {
          "base_uri": "https://localhost:8080/"
        },
        "id": "3ivn38sRaV09",
        "outputId": "17976ff0-e395-4ec6-fbd1-34ca1d9bd31a"
      },
      "execution_count": 21,
      "outputs": [
        {
          "output_type": "stream",
          "name": "stdout",
          "text": [
            "{1, 2, 3, 4, 5}\n"
          ]
        }
      ]
    },
    {
      "cell_type": "code",
      "source": [
        "#20.Write a code to find the intersection of two sets {1, 2, 3} and {2, 3, 4}.\n",
        "set1 = {1, 2, 3}\n",
        "set2 = {3, 4, 5}\n",
        "setIntersect= set1.intersection(set2)\n",
        "print(setIntersect)"
      ],
      "metadata": {
        "colab": {
          "base_uri": "https://localhost:8080/"
        },
        "id": "5v2eF0Joadg9",
        "outputId": "14015b06-a4ed-4e49-c9c7-21afba9cb9f0"
      },
      "execution_count": 22,
      "outputs": [
        {
          "output_type": "stream",
          "name": "stdout",
          "text": [
            "{3}\n"
          ]
        }
      ]
    },
    {
      "cell_type": "code",
      "source": [
        "#21.Write a code to create a dictionary with the keys \"name\", \"age\", and \"city\", and print it.\n",
        "perDict = {'name':'Sartaj Fatima', 'age':'19', 'city':'Jamshedpur'}\n",
        "print(perDict)"
      ],
      "metadata": {
        "colab": {
          "base_uri": "https://localhost:8080/"
        },
        "id": "26joI7HBagyK",
        "outputId": "2e62ffea-22a3-4837-c65b-d3ba710caa41"
      },
      "execution_count": 2,
      "outputs": [
        {
          "output_type": "stream",
          "name": "stdout",
          "text": [
            "{'name': 'Sartaj Fatima', 'age': '19', 'city': 'Jamshedpur'}\n"
          ]
        }
      ]
    },
    {
      "cell_type": "code",
      "source": [
        "#22.Write a code to add a new key-value pair \"country\": \"USA\" to the dictionary {'name': 'John', 'age': 25}\n",
        "perDict = {'name':'John', 'age':'25',}\n",
        "perDict['Country']='USA'\n",
        "print(perDict)"
      ],
      "metadata": {
        "colab": {
          "base_uri": "https://localhost:8080/"
        },
        "id": "gbLn7uGsa734",
        "outputId": "04d158b9-1f90-4a51-98f6-af4806271f37"
      },
      "execution_count": 25,
      "outputs": [
        {
          "output_type": "stream",
          "name": "stdout",
          "text": [
            "{'name': 'John', 'age': '25', 'Country': 'USA'}\n"
          ]
        }
      ]
    },
    {
      "cell_type": "code",
      "source": [
        "#23.Write a code to access the value associated with the key \"name\" in the dictionary {'name': 'Alice', 'age': 30}\n",
        "persDict = {'name': 'Alice', 'age': 30}\n",
        "val = persDict['name']\n",
        "print(val)"
      ],
      "metadata": {
        "colab": {
          "base_uri": "https://localhost:8080/"
        },
        "id": "H5zqx2NrbGPH",
        "outputId": "c6318a48-ef06-4679-f337-2caf4c82a5a9"
      },
      "execution_count": 26,
      "outputs": [
        {
          "output_type": "stream",
          "name": "stdout",
          "text": [
            "Alice\n"
          ]
        }
      ]
    },
    {
      "cell_type": "code",
      "source": [
        "#24.Write a code to remove the key \"age\" from the dictionary {'name': 'Bob', 'age': 22, 'city': 'New York'}.\n",
        "bobdict = {'name': 'Bob', 'age': 22, 'city': 'New York'}\n",
        "remDic = bobdict.pop('age')\n",
        "print(remDic)\n",
        "print(bobdict)"
      ],
      "metadata": {
        "colab": {
          "base_uri": "https://localhost:8080/"
        },
        "id": "khTOjVOhbQPs",
        "outputId": "a83cb225-6a54-4949-96ae-86914f9279b7"
      },
      "execution_count": 27,
      "outputs": [
        {
          "output_type": "stream",
          "name": "stdout",
          "text": [
            "22\n",
            "{'name': 'Bob', 'city': 'New York'}\n"
          ]
        }
      ]
    },
    {
      "cell_type": "code",
      "source": [
        "#25. Write a code to check if the key \"city\" exists in the dictionary {'name': 'Alice', 'city': 'Paris'}\n",
        "nameDict = {'name': 'Alice', 'city': 'Paris'}\n",
        "doExist = 'city' in nameDict\n",
        "print(doExist)"
      ],
      "metadata": {
        "colab": {
          "base_uri": "https://localhost:8080/"
        },
        "id": "srsq7vxibhMy",
        "outputId": "52b8619b-5614-44dd-f690-3608a062527c"
      },
      "execution_count": 28,
      "outputs": [
        {
          "output_type": "stream",
          "name": "stdout",
          "text": [
            "True\n"
          ]
        }
      ]
    },
    {
      "cell_type": "code",
      "source": [
        "#26.Write a code to create a list, a tuple, and a dictionary, and print them all.\n",
        "exList=['Avya','Anjali','Shalz']\n",
        "exTuple=('Kirti','Tanu','Bhavya')\n",
        "exDict={'Name':'Kirt','Age':'24','Relation':'wife'}\n",
        "print(exList)\n",
        "print(exTuple)\n",
        "print(exDict)"
      ],
      "metadata": {
        "colab": {
          "base_uri": "https://localhost:8080/"
        },
        "id": "WyfCi-oPbkvU",
        "outputId": "018d20a0-6ae4-4f08-aaae-d74ee7673865"
      },
      "execution_count": 30,
      "outputs": [
        {
          "output_type": "stream",
          "name": "stdout",
          "text": [
            "['Avya', 'Anjali', 'Shalz']\n",
            "('Kirti', 'Tanu', 'Bhavya')\n",
            "{'Name': 'Kirt', 'Age': '24', 'Relation': 'wife'}\n"
          ]
        }
      ]
    },
    {
      "cell_type": "code",
      "source": [
        "#27.Write a code to create a list of 5 random numbers between 1 and 100, sort it in ascending order, and print the result.(replaced)\n",
        "import random\n",
        "\n",
        "# Create a list of 5 random numbers between 1 and 100\n",
        "random_numbers = random.sample(range(1, 101), 5)\n",
        "\n",
        "# Sort the list in ascending order\n",
        "random_numbers.sort()\n",
        "\n",
        "# Print the result\n",
        "print(random_numbers)"
      ],
      "metadata": {
        "colab": {
          "base_uri": "https://localhost:8080/"
        },
        "id": "YAfNV4aBb3j8",
        "outputId": "ab252b44-162e-4c31-c2b7-570e8dd2cb3f"
      },
      "execution_count": 31,
      "outputs": [
        {
          "output_type": "stream",
          "name": "stdout",
          "text": [
            "[7, 25, 33, 66, 85]\n"
          ]
        }
      ]
    },
    {
      "cell_type": "code",
      "source": [
        "#28.Write a code to create a list with strings and print the element at the third index.\n",
        "strList=['Tanu','Ajeet','Avya','Anjali','Shalz']\n",
        "thirdIndex=strList[4]\n",
        "print(thirdIndex)"
      ],
      "metadata": {
        "colab": {
          "base_uri": "https://localhost:8080/"
        },
        "id": "zHRlk_7xcUe_",
        "outputId": "f8afee57-914f-44e4-c987-56ba6d3f3a5c"
      },
      "execution_count": 32,
      "outputs": [
        {
          "output_type": "stream",
          "name": "stdout",
          "text": [
            "Shalz\n"
          ]
        }
      ]
    },
    {
      "cell_type": "code",
      "source": [
        "#29. Write a code to combine two dictionaries into one and print the result.\n",
        "Dict1={'Name':'Bhavya','Age':'26','Relation':'wife'}\n",
        "Dict2={'MarriageDate':'29/07/2021'}\n",
        "combDict={**Dict1,**Dict2}\n",
        "print(combDict)"
      ],
      "metadata": {
        "colab": {
          "base_uri": "https://localhost:8080/"
        },
        "id": "yS0nNKjHctq0",
        "outputId": "74b10f46-7825-46c1-edaa-315677e0fbc5"
      },
      "execution_count": 33,
      "outputs": [
        {
          "output_type": "stream",
          "name": "stdout",
          "text": [
            "{'Name': 'Bhavya', 'Age': '26', 'Relation': 'wife', 'MarriageDate': '29/07/2021'}\n"
          ]
        }
      ]
    },
    {
      "cell_type": "code",
      "source": [
        "#30.Write a code to convert a list of strings into a set.\n",
        "string_list = [\"Cherry\", \"Guava\", \"apple\", \"Cherry\", \"banana\"]\n",
        "string_set = set(string_list)\n",
        "print(string_set)"
      ],
      "metadata": {
        "colab": {
          "base_uri": "https://localhost:8080/"
        },
        "id": "q2QLKesBc5vm",
        "outputId": "ee9e88d8-b12d-4dc1-8333-31d6395b3455"
      },
      "execution_count": 34,
      "outputs": [
        {
          "output_type": "stream",
          "name": "stdout",
          "text": [
            "{'Cherry', 'apple', 'Guava', 'banana'}\n"
          ]
        }
      ]
    },
    {
      "cell_type": "code",
      "source": [],
      "metadata": {
        "id": "1FfvqZSJdOSO"
      },
      "execution_count": null,
      "outputs": []
    }
  ]
}